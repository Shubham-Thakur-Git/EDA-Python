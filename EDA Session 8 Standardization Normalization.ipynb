{
 "cells": [
  {
   "cell_type": "markdown",
   "id": "cef35f00-2a44-4ad4-83f8-d45565550c36",
   "metadata": {},
   "source": [
    "**import packages**"
   ]
  },
  {
   "cell_type": "code",
   "execution_count": 2,
   "id": "650aab3f-227e-442a-add5-a57ee361dc0b",
   "metadata": {},
   "outputs": [],
   "source": [
    "import numpy as np\n",
    "import pandas as pd\n",
    "import matplotlib.pyplot as plt\n",
    "import seaborn as sns"
   ]
  },
  {
   "cell_type": "code",
   "execution_count": 3,
   "id": "33a7ac25-0cb9-4614-8c62-f5e48883dacb",
   "metadata": {},
   "outputs": [],
   "source": [
    "visa_df=pd.read_csv(r\"C:\\Users\\thaku\\Documents\\MacBook\\Shubham's Stuff\\Naresh IT\\Data_Science_AI_Omkar Sir\\DataFiles\\Visadataset.csv\")\n",
    "\n",
    "cat_columns=visa_df.select_dtypes(include='object').columns\n",
    "num_columns=visa_df.select_dtypes(exclude='object').columns"
   ]
  },
  {
   "cell_type": "code",
   "execution_count": null,
   "id": "4eed8cb8-573a-4231-a687-9039820dd447",
   "metadata": {},
   "outputs": [],
   "source": [
    "# z_score ="
   ]
  },
  {
   "cell_type": "markdown",
   "id": "42a82789-b346-4e12-8466-f9789a42f598",
   "metadata": {},
   "source": [
    "<img class=\"XqHOTb IGEbUc\" alt=\"Z = \\frac{x - \\mu}{\\sigma}\" src=\"https://www.gstatic.com/education/formulas2/553212783/en/z_score.svg\" role=\"img\" data-csiid=\"7s_CZp3NPL3z4-EP-9CzsAQ_16\" data-atf=\"0\">"
   ]
  },
  {
   "cell_type": "code",
   "execution_count": 4,
   "id": "35c2c60f-38df-46e3-90c5-764b3c46e99b",
   "metadata": {},
   "outputs": [],
   "source": [
    "# Step-1: read prevaialving wage\n",
    "# Step-2: calculate mean of pwage\n",
    "# Step-3: calculate std of pwage\n",
    "# step-4: Numerat :step-1- step2\n",
    "# step-5: step4/step3\n",
    "wage_data=visa_df['prevailing_wage']\n",
    "wage_mean=visa_df['prevailing_wage'].mean()\n",
    "wage_std=visa_df['prevailing_wage'].std()\n",
    "nr=wage_data-wage_mean\n",
    "z_sclaed_wage_data=nr/wage_std\n",
    "visa_df['z_sclaed_wage_data']=z_sclaed_wage_data"
   ]
  },
  {
   "cell_type": "code",
   "execution_count": 5,
   "id": "5b00a736-59b0-46d0-8fbf-8b77f04ca5b0",
   "metadata": {},
   "outputs": [
    {
     "data": {
      "text/html": [
       "<div>\n",
       "<style scoped>\n",
       "    .dataframe tbody tr th:only-of-type {\n",
       "        vertical-align: middle;\n",
       "    }\n",
       "\n",
       "    .dataframe tbody tr th {\n",
       "        vertical-align: top;\n",
       "    }\n",
       "\n",
       "    .dataframe thead th {\n",
       "        text-align: right;\n",
       "    }\n",
       "</style>\n",
       "<table border=\"1\" class=\"dataframe\">\n",
       "  <thead>\n",
       "    <tr style=\"text-align: right;\">\n",
       "      <th></th>\n",
       "      <th>prevailing_wage</th>\n",
       "      <th>z_sclaed_wage_data</th>\n",
       "    </tr>\n",
       "  </thead>\n",
       "  <tbody>\n",
       "    <tr>\n",
       "      <th>0</th>\n",
       "      <td>592.2029</td>\n",
       "      <td>-1.398510</td>\n",
       "    </tr>\n",
       "    <tr>\n",
       "      <th>1</th>\n",
       "      <td>83425.6500</td>\n",
       "      <td>0.169832</td>\n",
       "    </tr>\n",
       "    <tr>\n",
       "      <th>2</th>\n",
       "      <td>122996.8600</td>\n",
       "      <td>0.919060</td>\n",
       "    </tr>\n",
       "    <tr>\n",
       "      <th>3</th>\n",
       "      <td>83434.0300</td>\n",
       "      <td>0.169991</td>\n",
       "    </tr>\n",
       "    <tr>\n",
       "      <th>4</th>\n",
       "      <td>149907.3900</td>\n",
       "      <td>1.428576</td>\n",
       "    </tr>\n",
       "    <tr>\n",
       "      <th>...</th>\n",
       "      <td>...</td>\n",
       "      <td>...</td>\n",
       "    </tr>\n",
       "    <tr>\n",
       "      <th>25475</th>\n",
       "      <td>77092.5700</td>\n",
       "      <td>0.049923</td>\n",
       "    </tr>\n",
       "    <tr>\n",
       "      <th>25476</th>\n",
       "      <td>279174.7900</td>\n",
       "      <td>3.876083</td>\n",
       "    </tr>\n",
       "    <tr>\n",
       "      <th>25477</th>\n",
       "      <td>146298.8500</td>\n",
       "      <td>1.360253</td>\n",
       "    </tr>\n",
       "    <tr>\n",
       "      <th>25478</th>\n",
       "      <td>86154.7700</td>\n",
       "      <td>0.221504</td>\n",
       "    </tr>\n",
       "    <tr>\n",
       "      <th>25479</th>\n",
       "      <td>70876.9100</td>\n",
       "      <td>-0.067762</td>\n",
       "    </tr>\n",
       "  </tbody>\n",
       "</table>\n",
       "<p>25480 rows × 2 columns</p>\n",
       "</div>"
      ],
      "text/plain": [
       "       prevailing_wage  z_sclaed_wage_data\n",
       "0             592.2029           -1.398510\n",
       "1           83425.6500            0.169832\n",
       "2          122996.8600            0.919060\n",
       "3           83434.0300            0.169991\n",
       "4          149907.3900            1.428576\n",
       "...                ...                 ...\n",
       "25475       77092.5700            0.049923\n",
       "25476      279174.7900            3.876083\n",
       "25477      146298.8500            1.360253\n",
       "25478       86154.7700            0.221504\n",
       "25479       70876.9100           -0.067762\n",
       "\n",
       "[25480 rows x 2 columns]"
      ]
     },
     "execution_count": 5,
     "metadata": {},
     "output_type": "execute_result"
    }
   ],
   "source": [
    "visa_df[['prevailing_wage','z_sclaed_wage_data']]"
   ]
  },
  {
   "cell_type": "markdown",
   "id": "a5f2dd07-d8df-4a8e-bbfa-f77349b73667",
   "metadata": {},
   "source": [
    "- Compare the values\n",
    "\n",
    "- We scale the data using z score \n",
    "\n",
    "- The index of org minmum value should exactly match with index of z_scaled minimum value\n",
    "\n",
    "- The index of org maximum value should exactly match with index of z_scaled maximum value\n",
    "\n",
    "- **idxmax** and **idxmin**"
   ]
  },
  {
   "cell_type": "code",
   "execution_count": 10,
   "id": "ac5796a7-9e9d-427b-a66c-00296cf7699b",
   "metadata": {},
   "outputs": [
    {
     "name": "stdout",
     "output_type": "stream",
     "text": [
      "The maximum value id is: 21077\n",
      "The minimum value id is: 20575\n"
     ]
    }
   ],
   "source": [
    "# Prevailing wage minimum id and \n",
    "# Prevailing wage maximum id\n",
    "max_id_wage=visa_df[['prevailing_wage']].idxmax().values[0]\n",
    "min_id_wage=visa_df[['prevailing_wage']].idxmin().values[0]\n",
    "print('The maximum value id is:',max_id_wage)\n",
    "print('The minimum value id is:',min_id_wage)"
   ]
  },
  {
   "cell_type": "code",
   "execution_count": 11,
   "id": "2ad40fc9-de33-4731-bdc9-cd595faa0a5a",
   "metadata": {},
   "outputs": [
    {
     "data": {
      "text/plain": [
       "prevailing_wage    319210.27\n",
       "dtype: float64"
      ]
     },
     "execution_count": 11,
     "metadata": {},
     "output_type": "execute_result"
    }
   ],
   "source": [
    "visa_df[['prevailing_wage']].max()"
   ]
  },
  {
   "cell_type": "code",
   "execution_count": 16,
   "id": "15f5f569-38e2-43a0-9fb8-0e719afb3287",
   "metadata": {},
   "outputs": [
    {
     "data": {
      "text/plain": [
       "prevailing_wage    2.1367\n",
       "dtype: float64"
      ]
     },
     "execution_count": 16,
     "metadata": {},
     "output_type": "execute_result"
    }
   ],
   "source": [
    "visa_df[['prevailing_wage']].min()"
   ]
  },
  {
   "cell_type": "code",
   "execution_count": 11,
   "id": "d4515131-7495-49bc-953f-bffa4ca240be",
   "metadata": {},
   "outputs": [
    {
     "data": {
      "text/html": [
       "<div>\n",
       "<style scoped>\n",
       "    .dataframe tbody tr th:only-of-type {\n",
       "        vertical-align: middle;\n",
       "    }\n",
       "\n",
       "    .dataframe tbody tr th {\n",
       "        vertical-align: top;\n",
       "    }\n",
       "\n",
       "    .dataframe thead th {\n",
       "        text-align: right;\n",
       "    }\n",
       "</style>\n",
       "<table border=\"1\" class=\"dataframe\">\n",
       "  <thead>\n",
       "    <tr style=\"text-align: right;\">\n",
       "      <th></th>\n",
       "      <th>prevailing_wage</th>\n",
       "    </tr>\n",
       "  </thead>\n",
       "  <tbody>\n",
       "    <tr>\n",
       "      <th>21077</th>\n",
       "      <td>319210.2700</td>\n",
       "    </tr>\n",
       "    <tr>\n",
       "      <th>20575</th>\n",
       "      <td>2.1367</td>\n",
       "    </tr>\n",
       "  </tbody>\n",
       "</table>\n",
       "</div>"
      ],
      "text/plain": [
       "       prevailing_wage\n",
       "21077      319210.2700\n",
       "20575           2.1367"
      ]
     },
     "execution_count": 11,
     "metadata": {},
     "output_type": "execute_result"
    }
   ],
   "source": [
    "visa_df.loc[[max_id_wage,min_id_wage],['prevailing_wage']]"
   ]
  },
  {
   "cell_type": "code",
   "execution_count": 12,
   "id": "a234ebe5-4149-480a-a733-6bcc84f4574b",
   "metadata": {},
   "outputs": [
    {
     "name": "stdout",
     "output_type": "stream",
     "text": [
      "The maximum value id is: 21077\n",
      "The minimum value id is: 20575\n"
     ]
    },
    {
     "data": {
      "text/html": [
       "<div>\n",
       "<style scoped>\n",
       "    .dataframe tbody tr th:only-of-type {\n",
       "        vertical-align: middle;\n",
       "    }\n",
       "\n",
       "    .dataframe tbody tr th {\n",
       "        vertical-align: top;\n",
       "    }\n",
       "\n",
       "    .dataframe thead th {\n",
       "        text-align: right;\n",
       "    }\n",
       "</style>\n",
       "<table border=\"1\" class=\"dataframe\">\n",
       "  <thead>\n",
       "    <tr style=\"text-align: right;\">\n",
       "      <th></th>\n",
       "      <th>z_sclaed_wage_data</th>\n",
       "    </tr>\n",
       "  </thead>\n",
       "  <tbody>\n",
       "    <tr>\n",
       "      <th>21077</th>\n",
       "      <td>4.634102</td>\n",
       "    </tr>\n",
       "    <tr>\n",
       "      <th>20575</th>\n",
       "      <td>-1.409682</td>\n",
       "    </tr>\n",
       "  </tbody>\n",
       "</table>\n",
       "</div>"
      ],
      "text/plain": [
       "       z_sclaed_wage_data\n",
       "21077            4.634102\n",
       "20575           -1.409682"
      ]
     },
     "execution_count": 12,
     "metadata": {},
     "output_type": "execute_result"
    }
   ],
   "source": [
    "max_id_wage=visa_df[['z_sclaed_wage_data']].idxmax().values[0]\n",
    "min_id_wage=visa_df[['z_sclaed_wage_data']].idxmin().values[0]\n",
    "print('The maximum value id is:',max_id_wage)\n",
    "print('The minimum value id is:',min_id_wage)\n",
    "visa_df.loc[[max_id_wage,min_id_wage],['z_sclaed_wage_data']]"
   ]
  },
  {
   "cell_type": "markdown",
   "id": "0f0a7d4f-7b53-4f82-b064-4821a0eae5f8",
   "metadata": {},
   "source": [
    "**StandardScalar**\n",
    "\n",
    "- StanadrdScalar is method to scale the data using z-score\n",
    "\n",
    "- It is under sklearn package\n",
    "\n",
    "- Under sklearn , we have a class : **preprocessing**\n",
    "\n",
    "- Under preprocessing, we have a method: **StandardScalar**\n",
    "\n",
    "- Read the package\n",
    "\n",
    "- Save the package\n",
    "\n",
    "- apply fit transform"
   ]
  },
  {
   "cell_type": "code",
   "execution_count": 13,
   "id": "98db3556-8afb-44c2-a761-5b5a8f323c6b",
   "metadata": {},
   "outputs": [],
   "source": [
    "visa_df=pd.read_csv(r\"C:\\Users\\thaku\\Documents\\MacBook\\Shubham's Stuff\\Naresh IT\\Data_Science_AI_Omkar Sir\\DataFiles\\Visadataset.csv\")"
   ]
  },
  {
   "cell_type": "code",
   "execution_count": 14,
   "id": "1593314d-0a3a-49be-84c5-a82a8acb47ae",
   "metadata": {},
   "outputs": [],
   "source": [
    "# By logic\n",
    "wage_data=visa_df['prevailing_wage']\n",
    "wage_mean=visa_df['prevailing_wage'].mean()\n",
    "wage_std=visa_df['prevailing_wage'].std()\n",
    "nr=wage_data-wage_mean\n",
    "z_sclaed_wage_data=nr/wage_std\n",
    "visa_df['z_sclaed_wage_data']=z_sclaed_wage_data"
   ]
  },
  {
   "cell_type": "code",
   "execution_count": 15,
   "id": "25c46e48-9a65-41bd-9277-e720e3f14813",
   "metadata": {},
   "outputs": [],
   "source": [
    "from sklearn.preprocessing import StandardScaler\n",
    "ss=StandardScaler()\n",
    "visa_df['ss_wage_data']=ss.fit_transform(visa_df[['prevailing_wage']])\n"
   ]
  },
  {
   "cell_type": "markdown",
   "id": "6e2fb3ae-1c1f-4fd6-bc94-8c5c4a57fbcd",
   "metadata": {},
   "source": [
    "- Compare 3 columns\n",
    "\n",
    "    - One is original column : **prevailing_wage**\n",
    "\n",
    "    - Second columns is developed by logic: **z_sclaed_wage_data**\n",
    "\n",
    "    - Third column is developed by pacakge: **ss_wage_data**"
   ]
  },
  {
   "cell_type": "code",
   "execution_count": 37,
   "id": "5a3782be-bc1b-483d-8777-171a6aff01c7",
   "metadata": {},
   "outputs": [
    {
     "data": {
      "text/html": [
       "<div>\n",
       "<style scoped>\n",
       "    .dataframe tbody tr th:only-of-type {\n",
       "        vertical-align: middle;\n",
       "    }\n",
       "\n",
       "    .dataframe tbody tr th {\n",
       "        vertical-align: top;\n",
       "    }\n",
       "\n",
       "    .dataframe thead th {\n",
       "        text-align: right;\n",
       "    }\n",
       "</style>\n",
       "<table border=\"1\" class=\"dataframe\">\n",
       "  <thead>\n",
       "    <tr style=\"text-align: right;\">\n",
       "      <th></th>\n",
       "      <th>prevailing_wage</th>\n",
       "      <th>z_sclaed_wage_data</th>\n",
       "      <th>ss_wage_data</th>\n",
       "    </tr>\n",
       "  </thead>\n",
       "  <tbody>\n",
       "    <tr>\n",
       "      <th>0</th>\n",
       "      <td>592.2029</td>\n",
       "      <td>-1.398510</td>\n",
       "      <td>-1.398537</td>\n",
       "    </tr>\n",
       "    <tr>\n",
       "      <th>1</th>\n",
       "      <td>83425.6500</td>\n",
       "      <td>0.169832</td>\n",
       "      <td>0.169835</td>\n",
       "    </tr>\n",
       "    <tr>\n",
       "      <th>2</th>\n",
       "      <td>122996.8600</td>\n",
       "      <td>0.919060</td>\n",
       "      <td>0.919079</td>\n",
       "    </tr>\n",
       "    <tr>\n",
       "      <th>3</th>\n",
       "      <td>83434.0300</td>\n",
       "      <td>0.169991</td>\n",
       "      <td>0.169994</td>\n",
       "    </tr>\n",
       "    <tr>\n",
       "      <th>4</th>\n",
       "      <td>149907.3900</td>\n",
       "      <td>1.428576</td>\n",
       "      <td>1.428604</td>\n",
       "    </tr>\n",
       "    <tr>\n",
       "      <th>...</th>\n",
       "      <td>...</td>\n",
       "      <td>...</td>\n",
       "      <td>...</td>\n",
       "    </tr>\n",
       "    <tr>\n",
       "      <th>25475</th>\n",
       "      <td>77092.5700</td>\n",
       "      <td>0.049923</td>\n",
       "      <td>0.049924</td>\n",
       "    </tr>\n",
       "    <tr>\n",
       "      <th>25476</th>\n",
       "      <td>279174.7900</td>\n",
       "      <td>3.876083</td>\n",
       "      <td>3.876159</td>\n",
       "    </tr>\n",
       "    <tr>\n",
       "      <th>25477</th>\n",
       "      <td>146298.8500</td>\n",
       "      <td>1.360253</td>\n",
       "      <td>1.360280</td>\n",
       "    </tr>\n",
       "    <tr>\n",
       "      <th>25478</th>\n",
       "      <td>86154.7700</td>\n",
       "      <td>0.221504</td>\n",
       "      <td>0.221509</td>\n",
       "    </tr>\n",
       "    <tr>\n",
       "      <th>25479</th>\n",
       "      <td>70876.9100</td>\n",
       "      <td>-0.067762</td>\n",
       "      <td>-0.067763</td>\n",
       "    </tr>\n",
       "  </tbody>\n",
       "</table>\n",
       "<p>25480 rows × 3 columns</p>\n",
       "</div>"
      ],
      "text/plain": [
       "       prevailing_wage  z_sclaed_wage_data  ss_wage_data\n",
       "0             592.2029           -1.398510     -1.398537\n",
       "1           83425.6500            0.169832      0.169835\n",
       "2          122996.8600            0.919060      0.919079\n",
       "3           83434.0300            0.169991      0.169994\n",
       "4          149907.3900            1.428576      1.428604\n",
       "...                ...                 ...           ...\n",
       "25475       77092.5700            0.049923      0.049924\n",
       "25476      279174.7900            3.876083      3.876159\n",
       "25477      146298.8500            1.360253      1.360280\n",
       "25478       86154.7700            0.221504      0.221509\n",
       "25479       70876.9100           -0.067762     -0.067763\n",
       "\n",
       "[25480 rows x 3 columns]"
      ]
     },
     "execution_count": 37,
     "metadata": {},
     "output_type": "execute_result"
    }
   ],
   "source": [
    "visa_df[['prevailing_wage','z_sclaed_wage_data','ss_wage_data']]"
   ]
  },
  {
   "cell_type": "code",
   "execution_count": 46,
   "id": "c4210b1b-655b-4cb5-801e-3d5f36669afb",
   "metadata": {},
   "outputs": [
    {
     "data": {
      "text/plain": [
       "array([[-1.39853722],\n",
       "       [ 0.1698353 ],\n",
       "       [ 0.91907852],\n",
       "       ...,\n",
       "       [ 1.36027953],\n",
       "       [ 0.22150859],\n",
       "       [-0.06776315]])"
      ]
     },
     "execution_count": 46,
     "metadata": {},
     "output_type": "execute_result"
    }
   ],
   "source": [
    "d=visa_df['prevailing_wage'].values.reshape(-1,1)\n",
    "ss.fit_transform(d)"
   ]
  },
  {
   "cell_type": "code",
   "execution_count": null,
   "id": "dcaae958-daab-4d93-8ac9-a80ef9a71cd3",
   "metadata": {},
   "outputs": [],
   "source": [
    "# Method-1:\n",
    "ss.fit_transform(visa_df[['prevailing_wage']])\n",
    "# Method-2\n",
    "d=visa_df['prevailing_wage'].values.reshape(-1,1)\n",
    "ss.fit_transform(d)"
   ]
  },
  {
   "cell_type": "markdown",
   "id": "da17e65a-57de-4822-bb36-092bfa7a625f",
   "metadata": {},
   "source": [
    "**MinMaxScalar**"
   ]
  },
  {
   "cell_type": "markdown",
   "id": "15a84deb-70f5-4736-8b20-c80c8640b5f5",
   "metadata": {},
   "source": [
    "<img id=\"dimg_13\" src=\"data:image/png;base64,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\" class=\"YQ4gaf zr758c\" height=\"106\" style=\"object-position:0% 66%\" width=\"476\" alt=\"how MinMaxScaler() works ...\" data-csiid=\"l9HCZtm_GMqF4-EP95CQqQM_11\" data-atf=\"1\">"
   ]
  },
  {
   "cell_type": "code",
   "execution_count": null,
   "id": "e0a5f41e-8a9e-4632-883d-8141bd13de19",
   "metadata": {},
   "outputs": [],
   "source": [
    "# read the data\n",
    "# Develop a normalization data using logic\n",
    "# step-1: Read the pwage data\n",
    "# step-2: min value\n",
    "# step-3: max value\n",
    "# step-4: nr: step1-step2\n",
    "# step-5: dr: step3-step2\n",
    "# step-6: step4/step5"
   ]
  },
  {
   "cell_type": "code",
   "execution_count": 16,
   "id": "3a8e9a19-588b-49a1-af2e-a1168974d1cc",
   "metadata": {},
   "outputs": [],
   "source": [
    "visa_df['min_max_scaled'] = (visa_df['prevailing_wage'] - visa_df['prevailing_wage'].min()) / (visa_df['prevailing_wage'].max() - visa_df['prevailing_wage'].min())"
   ]
  },
  {
   "cell_type": "code",
   "execution_count": 17,
   "id": "4d2af619-170f-4a81-ac9a-3941667cb0db",
   "metadata": {},
   "outputs": [
    {
     "data": {
      "text/html": [
       "<div>\n",
       "<style scoped>\n",
       "    .dataframe tbody tr th:only-of-type {\n",
       "        vertical-align: middle;\n",
       "    }\n",
       "\n",
       "    .dataframe tbody tr th {\n",
       "        vertical-align: top;\n",
       "    }\n",
       "\n",
       "    .dataframe thead th {\n",
       "        text-align: right;\n",
       "    }\n",
       "</style>\n",
       "<table border=\"1\" class=\"dataframe\">\n",
       "  <thead>\n",
       "    <tr style=\"text-align: right;\">\n",
       "      <th></th>\n",
       "      <th>prevailing_wage</th>\n",
       "      <th>min_max_scaled</th>\n",
       "      <th>mms_wage_data</th>\n",
       "    </tr>\n",
       "  </thead>\n",
       "  <tbody>\n",
       "    <tr>\n",
       "      <th>0</th>\n",
       "      <td>592.2029</td>\n",
       "      <td>0.001849</td>\n",
       "      <td>0.001849</td>\n",
       "    </tr>\n",
       "    <tr>\n",
       "      <th>1</th>\n",
       "      <td>83425.6500</td>\n",
       "      <td>0.261345</td>\n",
       "      <td>0.261345</td>\n",
       "    </tr>\n",
       "    <tr>\n",
       "      <th>2</th>\n",
       "      <td>122996.8600</td>\n",
       "      <td>0.385312</td>\n",
       "      <td>0.385312</td>\n",
       "    </tr>\n",
       "    <tr>\n",
       "      <th>3</th>\n",
       "      <td>83434.0300</td>\n",
       "      <td>0.261371</td>\n",
       "      <td>0.261371</td>\n",
       "    </tr>\n",
       "    <tr>\n",
       "      <th>4</th>\n",
       "      <td>149907.3900</td>\n",
       "      <td>0.469616</td>\n",
       "      <td>0.469616</td>\n",
       "    </tr>\n",
       "    <tr>\n",
       "      <th>...</th>\n",
       "      <td>...</td>\n",
       "      <td>...</td>\n",
       "      <td>...</td>\n",
       "    </tr>\n",
       "    <tr>\n",
       "      <th>25475</th>\n",
       "      <td>77092.5700</td>\n",
       "      <td>0.241505</td>\n",
       "      <td>0.241505</td>\n",
       "    </tr>\n",
       "    <tr>\n",
       "      <th>25476</th>\n",
       "      <td>279174.7900</td>\n",
       "      <td>0.874579</td>\n",
       "      <td>0.874579</td>\n",
       "    </tr>\n",
       "    <tr>\n",
       "      <th>25477</th>\n",
       "      <td>146298.8500</td>\n",
       "      <td>0.458311</td>\n",
       "      <td>0.458311</td>\n",
       "    </tr>\n",
       "    <tr>\n",
       "      <th>25478</th>\n",
       "      <td>86154.7700</td>\n",
       "      <td>0.269895</td>\n",
       "      <td>0.269895</td>\n",
       "    </tr>\n",
       "    <tr>\n",
       "      <th>25479</th>\n",
       "      <td>70876.9100</td>\n",
       "      <td>0.222033</td>\n",
       "      <td>0.222033</td>\n",
       "    </tr>\n",
       "  </tbody>\n",
       "</table>\n",
       "<p>25480 rows × 3 columns</p>\n",
       "</div>"
      ],
      "text/plain": [
       "       prevailing_wage  min_max_scaled  mms_wage_data\n",
       "0             592.2029        0.001849       0.001849\n",
       "1           83425.6500        0.261345       0.261345\n",
       "2          122996.8600        0.385312       0.385312\n",
       "3           83434.0300        0.261371       0.261371\n",
       "4          149907.3900        0.469616       0.469616\n",
       "...                ...             ...            ...\n",
       "25475       77092.5700        0.241505       0.241505\n",
       "25476      279174.7900        0.874579       0.874579\n",
       "25477      146298.8500        0.458311       0.458311\n",
       "25478       86154.7700        0.269895       0.269895\n",
       "25479       70876.9100        0.222033       0.222033\n",
       "\n",
       "[25480 rows x 3 columns]"
      ]
     },
     "execution_count": 17,
     "metadata": {},
     "output_type": "execute_result"
    }
   ],
   "source": [
    "# Using Package\n",
    "from sklearn.preprocessing import MinMaxScaler\n",
    "MMS = MinMaxScaler()\n",
    "mms_scaled_values = MMS.fit_transform(visa_df[['prevailing_wage']])\n",
    "visa_df['mms_wage_data'] = mms_scaled_values\n",
    "\n",
    "# our logic\n",
    "# visa_df['min_max_scaled'] = (visa_df['prevailing_wage'] - visa_df['prevailing_wage'].min()) / (visa_df['prevailing_wage'].max() - visa_df['prevailing_wage'].min())\n",
    "\n",
    "visa_df[['prevailing_wage','min_max_scaled','mms_wage_data']]"
   ]
  },
  {
   "cell_type": "markdown",
   "id": "b1fda078-082a-4830-a929-2d17ca503b8f",
   "metadata": {},
   "source": [
    "- MinMaxScalar(Normalization) minimum value is 0\n",
    "- MinMaxScalar(Normalization) maximum value is 1"
   ]
  },
  {
   "cell_type": "code",
   "execution_count": 19,
   "id": "2a8f98e2-6bc8-4e8b-b048-a098cf3e5af0",
   "metadata": {},
   "outputs": [
    {
     "name": "stdout",
     "output_type": "stream",
     "text": [
      "0.0\n",
      "1.0\n"
     ]
    }
   ],
   "source": [
    "print(visa_df['min_max_scaled'].min())\n",
    "print(visa_df['min_max_scaled'].max())"
   ]
  },
  {
   "cell_type": "code",
   "execution_count": 20,
   "id": "d67fd3fc-efe0-4e09-8385-b20b142b40e0",
   "metadata": {},
   "outputs": [
    {
     "name": "stdout",
     "output_type": "stream",
     "text": [
      "0.0\n",
      "0.9999999999999999\n"
     ]
    }
   ],
   "source": [
    "print(visa_df['mms_wage_data'].min())\n",
    "print(visa_df['mms_wage_data'].max())"
   ]
  },
  {
   "cell_type": "code",
   "execution_count": null,
   "id": "64e453b4-3366-49b3-a65b-4f078e64f17e",
   "metadata": {},
   "outputs": [],
   "source": []
  }
 ],
 "metadata": {
  "kernelspec": {
   "display_name": "Python 3 (ipykernel)",
   "language": "python",
   "name": "python3"
  },
  "language_info": {
   "codemirror_mode": {
    "name": "ipython",
    "version": 3
   },
   "file_extension": ".py",
   "mimetype": "text/x-python",
   "name": "python",
   "nbconvert_exporter": "python",
   "pygments_lexer": "ipython3",
   "version": "3.11.7"
  }
 },
 "nbformat": 4,
 "nbformat_minor": 5
}
